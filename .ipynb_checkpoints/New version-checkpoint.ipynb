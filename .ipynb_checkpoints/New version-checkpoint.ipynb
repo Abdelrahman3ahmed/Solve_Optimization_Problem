{
 "cells": [
  {
   "cell_type": "markdown",
   "metadata": {},
   "source": [
    "# Importing Libaries"
   ]
  },
  {
   "cell_type": "code",
   "execution_count": 20,
   "metadata": {},
   "outputs": [],
   "source": [
    "import numpy as np\n",
    "import matplotlib.pyplot as plt\n",
    "import sklearn as sk\n",
    "from sklearn.metrics import r2_score\n"
   ]
  },
  {
   "cell_type": "markdown",
   "metadata": {},
   "source": [
    "# Read and Explore Data\n"
   ]
  },
  {
   "cell_type": "code",
   "execution_count": 21,
   "metadata": {},
   "outputs": [],
   "source": [
    "Data_points = np.genfromtxt(\"MultipleLR.csv\" ,  delimiter= ',')\n",
    "X_Data = Data_points[:,0:3]\n",
    "Y_Data = Data_points[:,1]\n",
    "\n",
    "# plt.scatter(X_Data , Y_Data)\n",
    "# plt.show()\n",
    "\n"
   ]
  },
  {
   "cell_type": "code",
   "execution_count": 22,
   "metadata": {},
   "outputs": [],
   "source": [
    "feature_length = X_Data.shape[1]"
   ]
  },
  {
   "cell_type": "code",
   "execution_count": 23,
   "metadata": {},
   "outputs": [],
   "source": [
    "feture = np.concatenate((np.ones(len(X_Data)).reshape( len(X_Data), 1) \n",
    "                         , X_Data.reshape(len(X_Data) , feature_length))  , axis = 1)\n",
    "\n"
   ]
  },
  {
   "cell_type": "code",
   "execution_count": 24,
   "metadata": {},
   "outputs": [
    {
     "data": {
      "text/plain": [
       "(25, 4)"
      ]
     },
     "execution_count": 24,
     "metadata": {},
     "output_type": "execute_result"
    }
   ],
   "source": [
    "feture.shape"
   ]
  },
  {
   "cell_type": "markdown",
   "metadata": {},
   "source": [
    "# Generate Batches"
   ]
  },
  {
   "cell_type": "code",
   "execution_count": 25,
   "metadata": {},
   "outputs": [],
   "source": [
    "def Generate_Batches(Data  , batch_size):\n",
    "    Batches = []\n",
    "    M = 0\n",
    "    while(M+batch_size <= len(Data)):\n",
    "        Batches.append(Data[M : M+batch_size])\n",
    "        M +=batch_size-1\n",
    "    Batches.append(Data[M : ]) \n",
    "    return Batches\n",
    "\n"
   ]
  },
  {
   "cell_type": "markdown",
   "metadata": {},
   "source": [
    "# Mini-Batch GD"
   ]
  },
  {
   "cell_type": "code",
   "execution_count": 26,
   "metadata": {},
   "outputs": [
    {
     "name": "stdout",
     "output_type": "stream",
     "text": [
      "(4, 1)\n"
     ]
    },
    {
     "name": "stderr",
     "output_type": "stream",
     "text": [
      "<ipython-input-26-86c8bc047cd5>:36: RuntimeWarning: overflow encountered in multiply\n",
      "  Jtheta.append(((1/2*len(feture_Mini))*(np.dot(Error_mini ,Error_mini.T)))[0])\n",
      "<ipython-input-26-86c8bc047cd5>:29: RuntimeWarning: invalid value encountered in subtract\n",
      "  if (Not_first_iter >2 and np.abs(Jtheta[-1*len(feture_Mini)]-Jtheta[-2*len(feture_Mini)]) < 0.001):\n",
      "<ipython-input-26-86c8bc047cd5>:43: RuntimeWarning: invalid value encountered in subtract\n",
      "  theta = theta - (alpha/len(feture_Mini))*Gradt_mini.reshape(4,1)\n"
     ]
    },
    {
     "name": "stdout",
     "output_type": "stream",
     "text": [
      "[[nan]\n",
      " [nan]\n",
      " [nan]\n",
      " [nan]]\n"
     ]
    }
   ],
   "source": [
    "theta = np.zeros(feature_length+1).reshape(feature_length+1,1)\n",
    "print(theta.shape)\n",
    "alpha = 0.001\n",
    "Data_length = len(X_Data)\n",
    "Epoch = 100\n",
    "\n",
    "Not_first_iter =0\n",
    "\n",
    "Jtheta = []\n",
    "theta_zero = []\n",
    "theta_one = []\n",
    "\n",
    "Max_no_iter = 4000\n",
    "Batch_Size = 3\n",
    "feture_Mini = Generate_Batches(feture , Batch_Size)\n",
    "Y_mini = Generate_Batches(Y_Data , Batch_Size)\n",
    "\n",
    "# print(theta.T.shape , feture_Mini[0].T.shape)\n",
    "for j in range(Max_no_iter):\n",
    "    Not_first_iter +=1\n",
    "    for i in range(len(feture_Mini)):\n",
    "#         print(theta , feture_Mini[i].T)\n",
    "        Y= np.dot(theta.T ,feture_Mini[i].T)\n",
    "#         print(theta.T.shape , feture_Mini[i].T.shape)\n",
    "#         print()\n",
    "#         print(Y.shape)\n",
    "        Error_mini = Y-Y_mini[i]\n",
    "#         print(Error_mini.shape)\n",
    "        if (Not_first_iter >2 and np.abs(Jtheta[-1*len(feture_Mini)]-Jtheta[-2*len(feture_Mini)]) < 0.001):\n",
    "            break\n",
    "        \n",
    "        \n",
    "        theta_zero.append(theta[0][0])\n",
    "        theta_one.append(theta[1][0])\n",
    "        \n",
    "        Jtheta.append(((1/2*len(feture_Mini))*(np.dot(Error_mini ,Error_mini.T)))[0])\n",
    "#         print(Jtheta)\n",
    "#         print(Jtheta[-1].shape)\n",
    "#         print(len(Jtheta))\n",
    "#         print(Error_mini.shape , feture_Mini[i].shape)\n",
    "        Gradt_mini = np.dot( Error_mini , feture_Mini[i])\n",
    "#         print(Gradt_mini.shape)\n",
    "        theta = theta - (alpha/len(feture_Mini))*Gradt_mini.reshape(4,1)\n",
    "#         print(theta.shape)\n",
    "#         print(\"end \\n\")\n",
    "        \n",
    "print(theta)   \n",
    "\n"
   ]
  },
  {
   "cell_type": "code",
   "execution_count": 27,
   "metadata": {},
   "outputs": [
    {
     "data": {
      "image/png": "[encoded data removed]",
      "text/plain": [
       "<Figure size 432x288 with 1 Axes>"
      ]
     },
     "metadata": {
      "needs_background": "light"
     },
     "output_type": "display_data"
    },
    {
     "data": {
      "image/png": "[encoded data removed]",
      "text/plain": [
       "<Figure size 432x288 with 1 Axes>"
      ]
     },
     "metadata": {
      "needs_background": "light"
     },
     "output_type": "display_data"
    },
    {
     "data": {
      "image/png": "[encoded data removed]",
      "text/plain": [
       "<Figure size 432x288 with 1 Axes>"
      ]
     },
     "metadata": {
      "needs_background": "light"
     },
     "output_type": "display_data"
    }
   ],
   "source": [
    "# plt.scatter(X_Data , Y_Data)\n",
    "# plt.plot(X_Data, theta[0]+ X_Data * theta[1]) \n",
    "# plt.xlabel(\"X Data\")\n",
    "# plt.ylabel(\"Y Data\")\n",
    "# plt.show()\n",
    "\n",
    "plt.plot(theta_zero ,Jtheta ,'-o') \n",
    "plt.xlabel(\"Theta 0\")\n",
    "plt.ylabel(\"Cost\")\n",
    "plt.show()\n",
    "\n",
    "plt.plot(theta_one , Jtheta , '-o')\n",
    "plt.xlabel(\"Theta 1\")\n",
    "plt.ylabel(\"Cost\")\n",
    "plt.show()\n",
    "\n",
    "\n",
    "plt.plot( Jtheta , '-o')\n",
    "plt.xlabel(\"Iters\")\n",
    "plt.ylabel(\"Cost\")\n",
    "plt.show()"
   ]
  },
  {
   "cell_type": "markdown",
   "metadata": {},
   "source": [
    "# Adam Algorithm use MiniBatch"
   ]
  },
  {
   "cell_type": "code",
   "execution_count": 28,
   "metadata": {},
   "outputs": [
    {
     "name": "stdout",
     "output_type": "stream",
     "text": [
      "[0.34981433 0.33372252 0.33758547 0.33433307]\n"
     ]
    }
   ],
   "source": [
    "theta = np.zeros(feature_length+1)\n",
    "alpha = 0.1\n",
    "\n",
    "Epoch = 100\n",
    "\n",
    "Not_first_iter = 0\n",
    "Jtheta = []\n",
    "theta_zero = []\n",
    "theta_one = []\n",
    "\n",
    "Max_no_iter = 10000\n",
    "\n",
    "Mt = 0\n",
    "Vt = 0\n",
    "Mt_hat = 0\n",
    "Vt_hat = 0\n",
    "epslon = 1e-8\n",
    "Beta_1 = 0.2\n",
    "Beta_2 = 0.9\n",
    "\n",
    "Batch_Size = 3\n",
    "feture_Mini = Generate_Batches(feture , Batch_Size)\n",
    "Y_mini = Generate_Batches(Y_Data , Batch_Size)\n",
    "\n",
    "Data_length = len(feture_Mini)\n",
    "for i in range(Max_no_iter):\n",
    "    for i in range(len(feture_Mini)):\n",
    "        Y= np.dot(theta ,feture_Mini[i].T)\n",
    "        Error = Y - Y_mini[i]\n",
    "\n",
    "        if Not_first_iter >1 and np.abs(Jtheta[-1]-Jtheta[-2]) < 0.01:\n",
    "                break\n",
    "        Not_first_iter+=1 \n",
    "        theta_zero.append(theta[0])\n",
    "        theta_one.append(theta[1])\n",
    "        Jtheta.append((alpha/2)*(np.dot( Error , Error)/Data_length))\n",
    "\n",
    "        Gradt = (np.dot( Error , feture_Mini[i]) /Data_length)\n",
    "\n",
    "\n",
    "        Mt = Beta_1*Mt + (1-Beta_1)*Gradt\n",
    "        Vt = Beta_2*Vt + (1-Beta_2)*np.square(Gradt)\n",
    "        Mt_hat = Mt/(1-Beta_1)\n",
    "        Vt_hat = Vt/(1-Beta_2)\n",
    "        theta = theta - (alpha/np.sqrt(Vt_hat+epslon))*Mt_hat\n",
    "    \n",
    "    \n",
    "print(theta) "
   ]
  },
  {
   "cell_type": "code",
   "execution_count": 29,
   "metadata": {},
   "outputs": [
    {
     "data": {
      "image/png": "[encoded data removed]",
      "text/plain": [
       "<Figure size 432x288 with 1 Axes>"
      ]
     },
     "metadata": {
      "needs_background": "light"
     },
     "output_type": "display_data"
    },
    {
     "data": {
      "image/png": "[encoded data removed]",
      "text/plain": [
       "<Figure size 432x288 with 1 Axes>"
      ]
     },
     "metadata": {
      "needs_background": "light"
     },
     "output_type": "display_data"
    },
    {
     "data": {
      "image/png": "[encoded data removed]",
      "text/plain": [
       "<Figure size 432x288 with 1 Axes>"
      ]
     },
     "metadata": {
      "needs_background": "light"
     },
     "output_type": "display_data"
    }
   ],
   "source": [
    "# plt.scatter(X_Data , Y_Data)\n",
    "# plt.plot(X_Data, theta[0]+ X_Data * theta[1]) \n",
    "# plt.xlabel(\"X Data\")\n",
    "# plt.ylabel(\"Y Data\")\n",
    "# plt.show()\n",
    "\n",
    "plt.plot(theta_zero ,Jtheta ,'-o') \n",
    "plt.xlabel(\"Theta 0\")\n",
    "plt.ylabel(\"Cost\")\n",
    "plt.show()\n",
    "\n",
    "plt.plot(theta_one , Jtheta , '-o')\n",
    "plt.xlabel(\"Theta 1\")\n",
    "plt.ylabel(\"Cost\")\n",
    "plt.show()\n",
    "\n",
    "\n",
    "plt.plot( Jtheta , '-o')\n",
    "plt.xlabel(\"Iters\")\n",
    "plt.ylabel(\"Cost\")\n",
    "plt.show()"
   ]
  },
  {
   "cell_type": "code",
   "execution_count": null,
   "metadata": {},
   "outputs": [],
   "source": []
  },
  {
   "cell_type": "code",
   "execution_count": null,
   "metadata": {},
   "outputs": [],
   "source": []
  },
  {
   "cell_type": "code",
   "execution_count": null,
   "metadata": {},
   "outputs": [],
   "source": []
  }
 ],
 "metadata": {
  "kernelspec": {
   "display_name": "Python 3",
   "language": "python",
   "name": "python3"
  },
  "language_info": {
   "codemirror_mode": {
    "name": "ipython",
    "version": 3
   },
   "file_extension": ".py",
   "mimetype": "text/x-python",
   "name": "python",
   "nbconvert_exporter": "python",
   "pygments_lexer": "ipython3",
   "version": "3.8.5"
  }
 },
 "nbformat": 4,
 "nbformat_minor": 4
}
